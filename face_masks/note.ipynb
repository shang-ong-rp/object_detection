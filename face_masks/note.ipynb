{
 "cells": [
  {
   "cell_type": "markdown",
   "id": "605d478a",
   "metadata": {},
   "source": [
    "# Training YOLOv5 with a face-mask dataset\n",
    "\n"
   ]
  },
  {
   "cell_type": "markdown",
   "id": "094000bc",
   "metadata": {},
   "source": [
    "## Step 1: Cloning and installing YOLOv5 and its dependencies\n",
    "\n",
    "After installing everything we need.\n",
    "\n",
    "## Step 2: Getting and preparing the data\n",
    "\n",
    "1. Download (Zizou's Labeled Mask)[https://www.kaggle.com/datasets/techzizou/labeled-mask-dataset-yolo-darknet] dataset from Kaggle\n",
    "1. Split the images from the `obj` folder into 2 groups: training and validation."
   ]
  },
  {
   "cell_type": "code",
   "execution_count": 1,
   "id": "525a963c",
   "metadata": {},
   "outputs": [
    {
     "name": "stdout",
     "output_type": "stream",
     "text": [
      "copying training data\n",
      "copying validation data\n",
      "finished\n"
     ]
    }
   ],
   "source": [
    "import os, shutil, random\n",
    "\n",
    "# preparing the folder structure\n",
    "\n",
    "full_data_path = 'data/obj/'\n",
    "extension_allowed = '.jpg'\n",
    "split_percentage = 90\n",
    "\n",
    "images_path = 'data/images/'\n",
    "if os.path.exists(images_path):\n",
    "    shutil.rmtree(images_path)\n",
    "os.mkdir(images_path)\n",
    "    \n",
    "labels_path = 'data/labels/'\n",
    "if os.path.exists(labels_path):\n",
    "    shutil.rmtree(labels_path)\n",
    "os.mkdir(labels_path)\n",
    "    \n",
    "training_images_path = images_path + 'training/'\n",
    "validation_images_path = images_path + 'validation/'\n",
    "training_labels_path = labels_path + 'training/'\n",
    "validation_labels_path = labels_path +'validation/'\n",
    "    \n",
    "os.mkdir(training_images_path)\n",
    "os.mkdir(validation_images_path)\n",
    "os.mkdir(training_labels_path)\n",
    "os.mkdir(validation_labels_path)\n",
    "\n",
    "files = []\n",
    "\n",
    "ext_len = len(extension_allowed)\n",
    "\n",
    "for r, d, f in os.walk(full_data_path):\n",
    "    for file in f:\n",
    "        if file.endswith(extension_allowed):\n",
    "            strip = file[0:len(file) - ext_len]      \n",
    "            files.append(strip)\n",
    "\n",
    "random.shuffle(files)\n",
    "\n",
    "size = len(files)                   \n",
    "\n",
    "split = int(split_percentage * size / 100)\n",
    "\n",
    "print(\"copying training data\")\n",
    "for i in range(split):\n",
    "    strip = files[i]\n",
    "                         \n",
    "    image_file = strip + extension_allowed\n",
    "    src_image = full_data_path + image_file\n",
    "    shutil.copy(src_image, training_images_path) \n",
    "                         \n",
    "    annotation_file = strip + '.txt'\n",
    "    src_label = full_data_path + annotation_file\n",
    "    shutil.copy(src_label, training_labels_path) \n",
    "\n",
    "print(\"copying validation data\")\n",
    "for i in range(split, size):\n",
    "    strip = files[i]\n",
    "                         \n",
    "    image_file = strip + extension_allowed\n",
    "    src_image = full_data_path + image_file\n",
    "    shutil.copy(src_image, validation_images_path) \n",
    "                         \n",
    "    annotation_file = strip + '.txt'\n",
    "    src_label = full_data_path + annotation_file\n",
    "    shutil.copy(src_label, validation_labels_path) \n",
    "\n",
    "print(\"finished\")"
   ]
  },
  {
   "cell_type": "code",
   "execution_count": 1,
   "id": "d5d55cfa",
   "metadata": {},
   "outputs": [
    {
     "name": "stdout",
     "output_type": "stream",
     "text": [
      "Collecting roboflow\n",
      "  Downloading roboflow-0.2.7.tar.gz (17 kB)\n",
      "Collecting certifi==2021.5.30\n",
      "  Downloading certifi-2021.5.30-py2.py3-none-any.whl (145 kB)\n",
      "Requirement already satisfied: chardet==4.0.0 in c:\\users\\shang_ong\\anaconda3\\lib\\site-packages (from roboflow) (4.0.0)\n",
      "Collecting cycler==0.10.0\n",
      "  Downloading cycler-0.10.0-py2.py3-none-any.whl (6.5 kB)\n",
      "Requirement already satisfied: glob2 in c:\\users\\shang_ong\\anaconda3\\lib\\site-packages (from roboflow) (0.7)\n",
      "Collecting idna==2.10\n",
      "  Downloading idna-2.10-py2.py3-none-any.whl (58 kB)\n",
      "Collecting Pillow==8.4.0\n",
      "  Downloading Pillow-8.4.0-cp39-cp39-win_amd64.whl (3.2 MB)\n",
      "Collecting kiwisolver==1.3.1\n",
      "  Downloading kiwisolver-1.3.1-cp39-cp39-win_amd64.whl (51 kB)\n",
      "Requirement already satisfied: matplotlib in c:\\users\\shang_ong\\anaconda3\\lib\\site-packages (from roboflow) (3.5.1)\n",
      "Requirement already satisfied: numpy>=1.18.5 in c:\\users\\shang_ong\\anaconda3\\lib\\site-packages (from roboflow) (1.21.5)\n",
      "Collecting roboflow\n",
      "  Downloading roboflow-0.2.6.tar.gz (17 kB)\n",
      "  Downloading roboflow-0.2.5.tar.gz (17 kB)\n",
      "Collecting opencv-python-headless>=4.1.2\n",
      "  Downloading opencv_python_headless-4.6.0.66-cp36-abi3-win_amd64.whl (35.5 MB)\n",
      "Collecting pyparsing==2.4.7\n",
      "  Downloading pyparsing-2.4.7-py2.py3-none-any.whl (67 kB)\n",
      "Requirement already satisfied: python-dateutil in c:\\users\\shang_ong\\anaconda3\\lib\\site-packages (from roboflow) (2.8.2)\n",
      "Collecting python-dotenv\n",
      "  Downloading python_dotenv-0.20.0-py3-none-any.whl (17 kB)\n",
      "Requirement already satisfied: requests in c:\\users\\shang_ong\\anaconda3\\lib\\site-packages (from roboflow) (2.27.1)\n",
      "Collecting requests_toolbelt\n",
      "  Downloading requests_toolbelt-0.9.1-py2.py3-none-any.whl (54 kB)\n",
      "Requirement already satisfied: six in c:\\users\\shang_ong\\anaconda3\\lib\\site-packages (from roboflow) (1.16.0)\n",
      "Collecting urllib3==1.26.6\n",
      "  Downloading urllib3-1.26.6-py2.py3-none-any.whl (138 kB)\n",
      "Collecting wget\n",
      "  Downloading wget-3.2.zip (10 kB)\n",
      "Requirement already satisfied: tqdm>=4.41.0 in c:\\users\\shang_ong\\anaconda3\\lib\\site-packages (from roboflow) (4.64.0)\n",
      "Requirement already satisfied: PyYAML>=5.3.1 in c:\\users\\shang_ong\\anaconda3\\lib\\site-packages (from roboflow) (6.0)\n",
      "Requirement already satisfied: colorama in c:\\users\\shang_ong\\anaconda3\\lib\\site-packages (from tqdm>=4.41.0->roboflow) (0.4.4)\n",
      "Requirement already satisfied: fonttools>=4.22.0 in c:\\users\\shang_ong\\anaconda3\\lib\\site-packages (from matplotlib->roboflow) (4.25.0)\n",
      "Requirement already satisfied: packaging>=20.0 in c:\\users\\shang_ong\\anaconda3\\lib\\site-packages (from matplotlib->roboflow) (21.3)\n",
      "Requirement already satisfied: charset-normalizer~=2.0.0 in c:\\users\\shang_ong\\anaconda3\\lib\\site-packages (from requests->roboflow) (2.0.4)\n",
      "Building wheels for collected packages: roboflow, wget\n",
      "  Building wheel for roboflow (setup.py): started\n",
      "  Building wheel for roboflow (setup.py): finished with status 'done'\n",
      "  Created wheel for roboflow: filename=roboflow-0.2.5-py3-none-any.whl size=24057 sha256=46a8b172bf97249e00418bf25cedb32620751cde3d7d134266262458eff5850f\n",
      "  Stored in directory: c:\\users\\shang_ong\\appdata\\local\\pip\\cache\\wheels\\94\\c9\\f1\\081464d53b7ccb2243e3b2286b893a83283139e38e4feb89e0\n",
      "  Building wheel for wget (setup.py): started\n",
      "  Building wheel for wget (setup.py): finished with status 'done'\n",
      "  Created wheel for wget: filename=wget-3.2-py3-none-any.whl size=9675 sha256=64e94fee346068037777f05863e8cf8fb8d6c97be6ee3e1daf5c88dd413043f3\n",
      "  Stored in directory: c:\\users\\shang_ong\\appdata\\local\\pip\\cache\\wheels\\04\\5f\\3e\\46cc37c5d698415694d83f607f833f83f0149e49b3af9d0f38\n",
      "Successfully built roboflow wget\n",
      "Installing collected packages: urllib3, pyparsing, idna, certifi, Pillow, kiwisolver, cycler, wget, requests-toolbelt, python-dotenv, opencv-python-headless, roboflow\n",
      "  Attempting uninstall: urllib3\n",
      "    Found existing installation: urllib3 1.26.9\n",
      "    Uninstalling urllib3-1.26.9:\n",
      "      Successfully uninstalled urllib3-1.26.9\n",
      "  Attempting uninstall: pyparsing\n",
      "    Found existing installation: pyparsing 3.0.4\n",
      "    Uninstalling pyparsing-3.0.4:\n",
      "      Successfully uninstalled pyparsing-3.0.4\n",
      "  Attempting uninstall: idna\n",
      "    Found existing installation: idna 3.3\n",
      "    Uninstalling idna-3.3:\n",
      "      Successfully uninstalled idna-3.3\n",
      "  Attempting uninstall: certifi\n",
      "    Found existing installation: certifi 2021.10.8\n",
      "    Uninstalling certifi-2021.10.8:\n",
      "      Successfully uninstalled certifi-2021.10.8\n",
      "  Attempting uninstall: Pillow\n",
      "    Found existing installation: Pillow 9.0.1\n",
      "    Uninstalling Pillow-9.0.1:\n",
      "      Successfully uninstalled Pillow-9.0.1\n"
     ]
    },
    {
     "name": "stderr",
     "output_type": "stream",
     "text": [
      "ERROR: Could not install packages due to an OSError: [WinError 5] Access is denied: 'C:\\\\Users\\\\shang_ong\\\\Anaconda3\\\\Lib\\\\site-packages\\\\~il\\\\_imaging.cp39-win_amd64.pyd'\n",
      "Consider using the `--user` option or check the permissions.\n",
      "\n"
     ]
    },
    {
     "ename": "ModuleNotFoundError",
     "evalue": "No module named 'roboflow'",
     "output_type": "error",
     "traceback": [
      "\u001b[1;31m---------------------------------------------------------------------------\u001b[0m",
      "\u001b[1;31mModuleNotFoundError\u001b[0m                       Traceback (most recent call last)",
      "\u001b[1;32mc:\\Users\\shang_ong\\Documents\\GitHub\\object_detection\\face_masks\\note.ipynb Cell 3'\u001b[0m in \u001b[0;36m<cell line: 7>\u001b[1;34m()\u001b[0m\n\u001b[0;32m      <a href='vscode-notebook-cell:/c%3A/Users/shang_ong/Documents/GitHub/object_detection/face_masks/note.ipynb#ch0000002?line=3'>4</a>\u001b[0m get_ipython()\u001b[39m.\u001b[39msystem(\u001b[39m'\u001b[39m\u001b[39mpip install roboflow\u001b[39m\u001b[39m'\u001b[39m)\n\u001b[0;32m      <a href='vscode-notebook-cell:/c%3A/Users/shang_ong/Documents/GitHub/object_detection/face_masks/note.ipynb#ch0000002?line=5'>6</a>\u001b[0m \u001b[39m# import roboflow\u001b[39;00m\n\u001b[1;32m----> <a href='vscode-notebook-cell:/c%3A/Users/shang_ong/Documents/GitHub/object_detection/face_masks/note.ipynb#ch0000002?line=6'>7</a>\u001b[0m \u001b[39mfrom\u001b[39;00m \u001b[39mroboflow\u001b[39;00m \u001b[39mimport\u001b[39;00m Roboflow\n\u001b[0;32m      <a href='vscode-notebook-cell:/c%3A/Users/shang_ong/Documents/GitHub/object_detection/face_masks/note.ipynb#ch0000002?line=8'>9</a>\u001b[0m \u001b[39m# download roboflow dataset\u001b[39;00m\n\u001b[0;32m     <a href='vscode-notebook-cell:/c%3A/Users/shang_ong/Documents/GitHub/object_detection/face_masks/note.ipynb#ch0000002?line=9'>10</a>\u001b[0m rf \u001b[39m=\u001b[39m Roboflow(api_key\u001b[39m=\u001b[39m\u001b[39m\"\u001b[39m\u001b[39mvBapsMlRtJahftycmDKX\u001b[39m\u001b[39m\"\u001b[39m)\n",
      "\u001b[1;31mModuleNotFoundError\u001b[0m: No module named 'roboflow'"
     ]
    }
   ],
   "source": [
    "# using dataset from Roboflow\n",
    "\n",
    "# install roboflow\n",
    "!pip install roboflow\n",
    "\n",
    "\n",
    "\n",
    "# import roboflow\n",
    "from roboflow import Roboflow\n",
    "\n",
    "# download roboflow dataset\n",
    "rf = Roboflow(api_key=\"vBapsMlRtJahftycmDKX\")\n",
    "project = rf.workspace(\"republic-polytechnic\").project(\"face_masks-ad3od\")\n",
    "dataset = project.version(1).download(\"yolov5\")"
   ]
  },
  {
   "cell_type": "markdown",
   "id": "df723286",
   "metadata": {},
   "source": []
  }
 ],
 "metadata": {
  "kernelspec": {
   "display_name": "Python 3.10.5 64-bit",
   "language": "python",
   "name": "python3"
  },
  "language_info": {
   "codemirror_mode": {
    "name": "ipython",
    "version": 3
   },
   "file_extension": ".py",
   "mimetype": "text/x-python",
   "name": "python",
   "nbconvert_exporter": "python",
   "pygments_lexer": "ipython3",
   "version": "3.10.5"
  },
  "vscode": {
   "interpreter": {
    "hash": "113bda1b654aa20ce2cc3dfb5c4e6ed87bc68fca56267526a368977121ae990d"
   }
  }
 },
 "nbformat": 4,
 "nbformat_minor": 5
}
